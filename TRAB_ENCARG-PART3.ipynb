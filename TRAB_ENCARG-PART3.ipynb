{
 "cells": [
  {
   "cell_type": "code",
   "execution_count": null,
   "metadata": {},
   "outputs": [],
   "source": []
  },
  {
   "cell_type": "code",
   "execution_count": 1,
   "metadata": {},
   "outputs": [],
   "source": [
    "import json\n",
    "import pandas as pd\n",
    "import numpy as np\n",
    "import matplotlib.pyplot as ptl\n",
    "import seaborn as sns\n",
    "from urllib.request import urlopen\n",
    "from bs4 import BeautifulSoup \n",
    "import requests"
   ]
  },
  {
   "cell_type": "code",
   "execution_count": 125,
   "metadata": {},
   "outputs": [
    {
     "data": {
      "text/plain": [
       "('Q2HJ27',\n",
       " 'Q2HJ27',\n",
       " 'https://www.uniprot.org/uniprot/Q2HJ27',\n",
       " 'MYC_BOVIN',\n",
       " 'Myc proto-oncogene protein',\n",
       " 'MYC',\n",
       " 'Bos taurus (Bovine)',\n",
       " 'Reviewed',\n",
       " 'Activation of cysteine-type endopeptidase activity involved in apoptotic process.Cellular iron ion homeostasis.Cellular response to dna damage stimulus.Chromatin remodeling.Chromosome organization.Intrinsic apoptotic signaling pathway.Mapk cascade.Negative regulation of apoptotic process.Negative regulation of cell division.Negative regulation of monocyte differentiation.Negative regulation of stress-activated mapk cascade.Positive regulation of cell population proliferation.Positive regulation of cysteine-type endopeptidase activity involved in apoptotic process.Positive regulation of dna biosynthetic process.Positive regulation of epithelial cell proliferation.Positive regulation of fibroblast proliferation.Positive regulation of response to dna damage stimulus.Positive regulation of transcription, dna-templated.Positive regulation of transcription by rna polymerase ii.Regulation of apoptotic process.Regulation of somatic stem cell population maintenance.Regulation of telomere maintenance.Regulation of transcription, dna-templated.Regulation of transcription by rna polymerase ii.Gaudet p..Response to drug.Response to gamma radiation.Response to radiation.',\n",
       " 'Activator, DNA-binding',\n",
       " 'Transcription, Transcription regulation')"
      ]
     },
     "execution_count": 125,
     "metadata": {},
     "output_type": "execute_result"
    }
   ],
   "source": [
    "###ENTRY + LINK FALTA entry_name#####################################################################################3.1\n",
    "headers = {'User-Agent': 'Mozilla/5.0 (Windows NT 10.0; Win64; x64) AppleWebKit/537.36 (KHTML, like Gecko) Chrome/89.0.4389.128 Safari/537.36'}\n",
    "\n",
    "###GEN,LINK\n",
    "def getQuestions(tag):\n",
    "    url = f'https://www.uniprot.org/uniprot/?query={tag}+Bos+taurus&sort=score'\n",
    "    r= requests.get(url, headers=headers)\n",
    "    soup = BeautifulSoup (r.text, 'html.parser')\n",
    "    questions= soup.find_all('tr', {'class': 'entry selected-row'})\n",
    "    \n",
    "    for item in questions:\n",
    "        entry=item.find('td', {'class': 'entryID'}).a.text \n",
    "        link='https://www.uniprot.org' +item.find('td', {'class': 'entryID'}).a['href'] \n",
    "        entry_name=item.find('td',{'class':''}).text\n",
    "            \n",
    "    #print(entry,\"->\",link)\n",
    "          \n",
    "    enter_link=f\"https://www.uniprot.org/uniprot/\"+str(entry)\n",
    "    r2= requests.get(enter_link, headers=headers)\n",
    "    soup2=BeautifulSoup(r2.text, \"html.parser\")\n",
    "    \n",
    "    #PROTEIN-GENE-ORGANISM-STATUS\n",
    "    #entradas=soup2.find(\"div\",{\"class\":\"content entry_view_content up_entry swissprot\"})\n",
    "    entrada=soup2.find_all(\"div\",{\"id\":\"entry-overview\"})\n",
    "    for sub_elem in entrada:\n",
    "            #gen_abr=entry\n",
    "        protein=sub_elem.find(\"div\",{\"class\":\"entry-overview-content\",\"id\":\"content-protein\"}).h1.text \n",
    "        gene=sub_elem.find(\"div\",{\"class\":\"entry-overview-content\",\"id\":\"content-gene\"}).h2.text \n",
    "        organism=sub_elem.find(\"div\",{\"class\":\"entry-overview-content\",\"id\":\"content-organism\"}).text\n",
    "        status=sub_elem.find(\"div\",{\"class\":\"entry-overview-content\",\"id\":\"content-status\"}).a.text\n",
    "    \n",
    "    #GO - Biological process\n",
    "    #entry1_link=f\"https://www.uniprot.org/uniprot/\"+str(entry)\n",
    "    #r3= requests.get(entry1_link, headers=headers)\n",
    "    #soup3=BeautifulSoup(r3.text, \"html.parser\")\n",
    "    \n",
    "    go=soup2.find(\"ul\",{\"class\":\"noNumbering biological_process\"})\n",
    "    goes=go.find_all(\"li\")  \n",
    "    \n",
    "    cadena=\"\"\n",
    "    for j in goes:\n",
    "        Biological_process_row=str(j.find(\"a\").text).capitalize()  #imprime todo texto de bio_process   \n",
    "        cadena1=Biological_process_row+\".\"\n",
    "        cadena=cadena+cadena1\n",
    "    \n",
    "    #KEYWORDS:\"Molecular function', 'Biological process\"\n",
    "    linea1=[]\n",
    "    linea2=[]\n",
    "    linea3=[]\n",
    "    #entry1_link=f\"https://www.uniprot.org/uniprot/Q2HJ27\"\n",
    "    #r8= requests.get(entry1_link, headers=headers)\n",
    "    #soup5=BeautifulSoup(r8.text, \"html.parser\")\n",
    "    \n",
    "    division=soup2.find(\"div\", {\"id\":\"function\"} )\n",
    "    tabla=division.find(\"table\", {\"class\":\"databaseTable\"})\n",
    "    rows=tabla.find_all(\"tr\")\n",
    "\n",
    "    for row in rows:\n",
    "        linea1.append(str(row.find_all(\"td\")[0].text))   #muestra ('Molecular function', 'Biological process')\n",
    "        linea2.append(str(row.find_all(\"td\")[1].text))   #muestra (\"'Activator, DNA-binding','Transcription, Transcription regulation'\")\n",
    "        linea3.append(str(row.find_all(\"td\")[1].a.text))\n",
    "    if len(linea1)==1:\n",
    "        linea3.append(str(row.find_all(\"td\")[1].a.text))\n",
    "        if linea1[0]==\"Molecular function\":\n",
    "            molecular_f=linea3[0]\n",
    "            biological_p=\"\"\n",
    "            #print(molecular_f)\n",
    "        if linea1[0]==\"Biological process\":\n",
    "            molecular_f=\"\"\n",
    "            biological_p=linea3[0]\n",
    "            #print(biological_p)\n",
    "    if len(linea1)>=2:\n",
    "        molecular_f=linea2[0]\n",
    "        biological_p=linea2[1]\n",
    "        #print(molecular_f,biological_p)\n",
    "    if len(linea1)==0:\n",
    "        molecular_f=\"\"\n",
    "        biological_p=\"\"\n",
    "        #print(molecular_f,biological_p)\n",
    "    \n",
    "    \n",
    "    \n",
    "    return tag,entry,link,entry_name ,protein,gene,organism ,status,cadena,molecular_f,biological_p\n",
    "    \n",
    "\n",
    "getQuestions(\"Q2HJ27\")\n",
    "#getQuestions(\"CD47\")\n"
   ]
  },
  {
   "cell_type": "code",
   "execution_count": null,
   "metadata": {},
   "outputs": [],
   "source": []
  },
  {
   "cell_type": "code",
   "execution_count": 126,
   "metadata": {},
   "outputs": [
    {
     "ename": "SyntaxError",
     "evalue": "invalid syntax (<ipython-input-126-499b8ec4ac84>, line 10)",
     "output_type": "error",
     "traceback": [
      "\u001b[1;36m  File \u001b[1;32m\"<ipython-input-126-499b8ec4ac84>\"\u001b[1;36m, line \u001b[1;32m10\u001b[0m\n\u001b[1;33m    busqueda=soup.find(\"div\",\"class\":\"content results\")\u001b[0m\n\u001b[1;37m                                    ^\u001b[0m\n\u001b[1;31mSyntaxError\u001b[0m\u001b[1;31m:\u001b[0m invalid syntax\n"
     ]
    }
   ],
   "source": [
    "###ENTRY + LINK FALTA entry_name#####################################################################################3.2\n",
    "headers = {'User-Agent': 'Mozilla/5.0 (Windows NT 10.0; Win64; x64) AppleWebKit/537.36 (KHTML, like Gecko) Chrome/89.0.4389.128 Safari/537.36'}\n",
    "\n",
    "###GEN,LINK\n",
    "def getQuestions(tag):\n",
    "    url = f'https://www.uniprot.org/uniprot/?query={tag}+Bos+taurus&sort=score'\n",
    "    r= requests.get(url, headers=headers)\n",
    "    soup = BeautifulSoup (r.text, 'html.parser')\n",
    "    \n",
    "    busqueda=soup.find(\"div\",\"class\":\"content results\")\n",
    "    response1=msm.find(\"div\", {\"id\":\"noResultsMessage\"})\n",
    "    answer1=str(response.find(\"h2\").text)\n",
    "\n",
    "   \n",
    "        #soup = BeautifulSoup (r.text, 'html.parser')\n",
    "        area=soup.find(\"div\", {\"id\":\"resultsArea\"} )\n",
    "        tab=area.find_all(\"table\", {\"class\":\"grid\" ,\"id\":\"results\"})\n",
    "        #print(len(tab))  ###1\n",
    "        #print(type(tab))   ####<class 'bs4.element.ResultSet'>\n",
    "        stat_tab=tab[0]   ###porque es 1\n",
    "        #print(type(stat_tab))    ###<class 'bs4.element.Tag'>\n",
    "\n",
    "        fila1=stat_tab.find_all(\"tr\",{\"class\":\"entry selected-row\"})\n",
    "        for item in fila1:\n",
    "            entry=item.find('td', {'class': 'entryID'}).a.text \n",
    "            link='https://www.uniprot.org' +item.find('td', {'class': 'entryID'}).a['href'] \n",
    "            entry_name=item.find(\"td\" ,{'class':''}).text \n",
    "            \n",
    "            #print(entry,\"->\",link)\n",
    "        enter_link=f\"https://www.uniprot.org/uniprot/\"+str(entry)\n",
    "        r2= requests.get(enter_link, headers=headers)\n",
    "        soup2=BeautifulSoup(r2.text, \"html.parser\")\n",
    "        \n",
    "        #PROTEIN-GENE-ORGANISM-STATUS\n",
    "        #entradas=soup2.find(\"div\",{\"class\":\"content entry_view_content up_entry swissprot\"})\n",
    "        entrada=soup2.find_all(\"div\",{\"id\":\"entry-overview\"})\n",
    "        for sub_elem in entrada:\n",
    "            #gen_abr=entry\n",
    "            protein=sub_elem.find(\"div\",{\"class\":\"entry-overview-content\",\"id\":\"content-protein\"}).h1.text \n",
    "            gene=sub_elem.find(\"div\",{\"class\":\"entry-overview-content\",\"id\":\"content-gene\"}).h2.text \n",
    "            organism=sub_elem.find(\"div\",{\"class\":\"entry-overview-content\",\"id\":\"content-organism\"}).text\n",
    "            status=sub_elem.find(\"div\",{\"class\":\"entry-overview-content\",\"id\":\"content-status\"}).a.text\n",
    "        \n",
    "        #GO - Biological process\n",
    "        #entry1_link=f\"https://www.uniprot.org/uniprot/\"+str(entry)\n",
    "        #r3= requests.get(entry1_link, headers=headers)\n",
    "        #soup3=BeautifulSoup(r3.text, \"html.parser\")\n",
    "    \n",
    "        go=soup2.find(\"ul\",{\"class\":\"noNumbering biological_process\"})###############################\n",
    "        goes=go.find_all(\"li\")  \n",
    "    \n",
    "        cadena=\"\"\n",
    "        for j in goes:\n",
    "            Biological_process_row=str(j.find(\"a\").text).capitalize()  #imprime todo texto de bio_process   \n",
    "            cadena1=Biological_process_row+\".\"\n",
    "            cadena=cadena+cadena1\n",
    "        \n",
    "        \n",
    "        #KEYWORDS:\"Molecular function', 'Biological process\"\n",
    "        linea1=[]\n",
    "        linea2=[]\n",
    "        linea3=[]\n",
    "        #entry1_link=f\"https://www.uniprot.org/uniprot/Q2HJ27\"\n",
    "        #r8= requests.get(entry1_link, headers=headers)\n",
    "        #soup5=BeautifulSoup(r8.text, \"html.parser\")\n",
    "    \n",
    "        division=soup2.find(\"div\", {\"id\":\"function\"} )\n",
    "        tabla=division.find(\"table\", {\"class\":\"databaseTable\"})\n",
    "        rows=tabla.find_all(\"tr\")\n",
    "        \n",
    "        for row in rows:\n",
    "            linea1.append(str(row.find_all(\"td\")[0].text))   #muestra ('Molecular function', 'Biological process')\n",
    "            linea2.append(str(row.find_all(\"td\")[1].text))   #muestra (\"'Activator, DNA-binding','Transcription, Transcription regulation'\")\n",
    "            linea3.append(str(row.find_all(\"td\")[1].a.text))\n",
    "        if len(linea1)==1:\n",
    "            linea3.append(str(row.find_all(\"td\")[1].a.text))\n",
    "            if linea1[0]==\"Molecular function\":\n",
    "                molecular_f=linea3[0]\n",
    "                biological_p=\"\"\n",
    "                #print(molecular_f)\n",
    "            if linea1[0]==\"Biological process\":\n",
    "                molecular_f=\"\"\n",
    "                biological_p=linea3[0]\n",
    "                #print(biological_p)\n",
    "        if len(linea1)>=2:\n",
    "            molecular_f=linea2[0]\n",
    "            biological_p=linea2[1]\n",
    "            #print(molecular_f,biological_p)\n",
    "        if len(linea1)==0:\n",
    "            molecular_f=\"\"\n",
    "            biological_p=\"\"\n",
    "            #print(molecular_f,biological_p)\n",
    "    #else:\n",
    "        \n",
    "        entry=\"\"\n",
    "        link=\"\"\n",
    "        protein=\"\"\n",
    "        gene=\"\"\n",
    "        organism=\"\"\n",
    "        status=\"\"\n",
    "        cadena=\"\"\n",
    "        molecular_f=\"\"\n",
    "        biological_p=\"\"\n",
    "    \n",
    "    \n",
    "    \n",
    "    return tag,entry,link,entry_name,protein,gene,organism ,status,molecular_f,biological_p\n",
    "    \n",
    "\n",
    "#getQuestions(\"Q2HJ27\")\n",
    "#getQuestions(\"CD47\")\n"
   ]
  },
  {
   "cell_type": "code",
   "execution_count": 127,
   "metadata": {},
   "outputs": [
    {
     "data": {
      "text/plain": [
       "('CD47',\n",
       " 'A0A4W2F3U1',\n",
       " 'https://www.uniprot.org/uniprot/A0A4W2F3U1',\n",
       " 'A0A4W2F3U1_BOBOX',\n",
       " 'Integrin-associated protein',\n",
       " 'CD47',\n",
       " 'Bos indicus x Bos taurus (Hybrid cattle)',\n",
       " 'Unreviewed',\n",
       " 'Atp export.Cellular response to interleukin-12.Inflammatory response.Monocyte aggregation.Opsonization.Positive regulation of cell population proliferation.Positive regulation of inflammatory response.Positive regulation of phagocytosis.Positive regulation of t cell activation.Regulation of interferon-gamma production.Regulation of interleukin-10 production.Regulation of interleukin-12 production.Regulation of interleukin-6 production.Regulation of nitric oxide biosynthetic process.Regulation of tumor necrosis factor production.Response to bacterium.',\n",
       " '',\n",
       " 'Cell adhesion')"
      ]
     },
     "execution_count": 127,
     "metadata": {},
     "output_type": "execute_result"
    }
   ],
   "source": [
    "getQuestions(\"CD47\")"
   ]
  },
  {
   "cell_type": "code",
   "execution_count": 128,
   "metadata": {},
   "outputs": [
    {
     "ename": "AttributeError",
     "evalue": "'NoneType' object has no attribute 'find_all'",
     "output_type": "error",
     "traceback": [
      "\u001b[1;31m---------------------------------------------------------------------------\u001b[0m",
      "\u001b[1;31mAttributeError\u001b[0m                            Traceback (most recent call last)",
      "\u001b[1;32m<ipython-input-128-6cd913df233b>\u001b[0m in \u001b[0;36m<module>\u001b[1;34m\u001b[0m\n\u001b[1;32m----> 1\u001b[1;33m \u001b[0mgetQuestions\u001b[0m\u001b[1;33m(\u001b[0m\u001b[1;34m\"EIF4A2\"\u001b[0m\u001b[1;33m)\u001b[0m\u001b[1;33m\u001b[0m\u001b[1;33m\u001b[0m\u001b[0m\n\u001b[0m",
      "\u001b[1;32m<ipython-input-125-6fc26b524571>\u001b[0m in \u001b[0;36mgetQuestions\u001b[1;34m(tag)\u001b[0m\n\u001b[0;32m     36\u001b[0m \u001b[1;33m\u001b[0m\u001b[0m\n\u001b[0;32m     37\u001b[0m     \u001b[0mgo\u001b[0m\u001b[1;33m=\u001b[0m\u001b[0msoup2\u001b[0m\u001b[1;33m.\u001b[0m\u001b[0mfind\u001b[0m\u001b[1;33m(\u001b[0m\u001b[1;34m\"ul\"\u001b[0m\u001b[1;33m,\u001b[0m\u001b[1;33m{\u001b[0m\u001b[1;34m\"class\"\u001b[0m\u001b[1;33m:\u001b[0m\u001b[1;34m\"noNumbering biological_process\"\u001b[0m\u001b[1;33m}\u001b[0m\u001b[1;33m)\u001b[0m\u001b[1;33m\u001b[0m\u001b[1;33m\u001b[0m\u001b[0m\n\u001b[1;32m---> 38\u001b[1;33m     \u001b[0mgoes\u001b[0m\u001b[1;33m=\u001b[0m\u001b[0mgo\u001b[0m\u001b[1;33m.\u001b[0m\u001b[0mfind_all\u001b[0m\u001b[1;33m(\u001b[0m\u001b[1;34m\"li\"\u001b[0m\u001b[1;33m)\u001b[0m\u001b[1;33m\u001b[0m\u001b[1;33m\u001b[0m\u001b[0m\n\u001b[0m\u001b[0;32m     39\u001b[0m \u001b[1;33m\u001b[0m\u001b[0m\n\u001b[0;32m     40\u001b[0m     \u001b[0mcadena\u001b[0m\u001b[1;33m=\u001b[0m\u001b[1;34m\"\"\u001b[0m\u001b[1;33m\u001b[0m\u001b[1;33m\u001b[0m\u001b[0m\n",
      "\u001b[1;31mAttributeError\u001b[0m: 'NoneType' object has no attribute 'find_all'"
     ]
    }
   ],
   "source": [
    "getQuestions(\"EIF4A2\")"
   ]
  },
  {
   "cell_type": "code",
   "execution_count": 129,
   "metadata": {},
   "outputs": [
    {
     "ename": "UnboundLocalError",
     "evalue": "local variable 'entry' referenced before assignment",
     "output_type": "error",
     "traceback": [
      "\u001b[1;31m---------------------------------------------------------------------------\u001b[0m",
      "\u001b[1;31mUnboundLocalError\u001b[0m                         Traceback (most recent call last)",
      "\u001b[1;32m<ipython-input-129-85ee8b398e60>\u001b[0m in \u001b[0;36m<module>\u001b[1;34m\u001b[0m\n\u001b[1;32m----> 1\u001b[1;33m \u001b[0mgetQuestions\u001b[0m\u001b[1;33m(\u001b[0m\u001b[1;34m\"TRNAG-UCC\"\u001b[0m\u001b[1;33m)\u001b[0m \u001b[1;31m#no encontrado\u001b[0m\u001b[1;33m\u001b[0m\u001b[1;33m\u001b[0m\u001b[0m\n\u001b[0m",
      "\u001b[1;32m<ipython-input-125-6fc26b524571>\u001b[0m in \u001b[0;36mgetQuestions\u001b[1;34m(tag)\u001b[0m\n\u001b[0;32m     16\u001b[0m     \u001b[1;31m#print(entry,\"->\",link)\u001b[0m\u001b[1;33m\u001b[0m\u001b[1;33m\u001b[0m\u001b[1;33m\u001b[0m\u001b[0m\n\u001b[0;32m     17\u001b[0m \u001b[1;33m\u001b[0m\u001b[0m\n\u001b[1;32m---> 18\u001b[1;33m     \u001b[0menter_link\u001b[0m\u001b[1;33m=\u001b[0m\u001b[1;34mf\"https://www.uniprot.org/uniprot/\"\u001b[0m\u001b[1;33m+\u001b[0m\u001b[0mstr\u001b[0m\u001b[1;33m(\u001b[0m\u001b[0mentry\u001b[0m\u001b[1;33m)\u001b[0m\u001b[1;33m\u001b[0m\u001b[1;33m\u001b[0m\u001b[0m\n\u001b[0m\u001b[0;32m     19\u001b[0m     \u001b[0mr2\u001b[0m\u001b[1;33m=\u001b[0m \u001b[0mrequests\u001b[0m\u001b[1;33m.\u001b[0m\u001b[0mget\u001b[0m\u001b[1;33m(\u001b[0m\u001b[0menter_link\u001b[0m\u001b[1;33m,\u001b[0m \u001b[0mheaders\u001b[0m\u001b[1;33m=\u001b[0m\u001b[0mheaders\u001b[0m\u001b[1;33m)\u001b[0m\u001b[1;33m\u001b[0m\u001b[1;33m\u001b[0m\u001b[0m\n\u001b[0;32m     20\u001b[0m     \u001b[0msoup2\u001b[0m\u001b[1;33m=\u001b[0m\u001b[0mBeautifulSoup\u001b[0m\u001b[1;33m(\u001b[0m\u001b[0mr2\u001b[0m\u001b[1;33m.\u001b[0m\u001b[0mtext\u001b[0m\u001b[1;33m,\u001b[0m \u001b[1;34m\"html.parser\"\u001b[0m\u001b[1;33m)\u001b[0m\u001b[1;33m\u001b[0m\u001b[1;33m\u001b[0m\u001b[0m\n",
      "\u001b[1;31mUnboundLocalError\u001b[0m: local variable 'entry' referenced before assignment"
     ]
    }
   ],
   "source": [
    "getQuestions(\"TRNAG-UCC\") #no encontrado"
   ]
  },
  {
   "cell_type": "code",
   "execution_count": 120,
   "metadata": {},
   "outputs": [
    {
     "ename": "AttributeError",
     "evalue": "'NoneType' object has no attribute 'find_all'",
     "output_type": "error",
     "traceback": [
      "\u001b[1;31m---------------------------------------------------------------------------\u001b[0m",
      "\u001b[1;31mAttributeError\u001b[0m                            Traceback (most recent call last)",
      "\u001b[1;32m<ipython-input-120-0f6e7fb48012>\u001b[0m in \u001b[0;36m<module>\u001b[1;34m\u001b[0m\n\u001b[1;32m----> 1\u001b[1;33m \u001b[0mgetQuestions\u001b[0m\u001b[1;33m(\u001b[0m\u001b[1;34m\"NDUFV3\"\u001b[0m\u001b[1;33m)\u001b[0m\u001b[1;33m\u001b[0m\u001b[1;33m\u001b[0m\u001b[0m\n\u001b[0m",
      "\u001b[1;32m<ipython-input-117-1c0c43614d8a>\u001b[0m in \u001b[0;36mgetQuestions\u001b[1;34m(tag)\u001b[0m\n\u001b[0;32m     36\u001b[0m \u001b[1;33m\u001b[0m\u001b[0m\n\u001b[0;32m     37\u001b[0m     \u001b[0mgo\u001b[0m\u001b[1;33m=\u001b[0m\u001b[0msoup2\u001b[0m\u001b[1;33m.\u001b[0m\u001b[0mfind\u001b[0m\u001b[1;33m(\u001b[0m\u001b[1;34m\"ul\"\u001b[0m\u001b[1;33m,\u001b[0m\u001b[1;33m{\u001b[0m\u001b[1;34m\"class\"\u001b[0m\u001b[1;33m:\u001b[0m\u001b[1;34m\"noNumbering molecular_function\"\u001b[0m\u001b[1;33m}\u001b[0m\u001b[1;33m)\u001b[0m\u001b[1;33m\u001b[0m\u001b[1;33m\u001b[0m\u001b[0m\n\u001b[1;32m---> 38\u001b[1;33m     \u001b[0mgoes\u001b[0m\u001b[1;33m=\u001b[0m\u001b[0mgo\u001b[0m\u001b[1;33m.\u001b[0m\u001b[0mfind_all\u001b[0m\u001b[1;33m(\u001b[0m\u001b[1;34m\"li\"\u001b[0m\u001b[1;33m)\u001b[0m\u001b[1;33m\u001b[0m\u001b[1;33m\u001b[0m\u001b[0m\n\u001b[0m\u001b[0;32m     39\u001b[0m \u001b[1;33m\u001b[0m\u001b[0m\n\u001b[0;32m     40\u001b[0m     \u001b[0mcadena\u001b[0m\u001b[1;33m=\u001b[0m\u001b[1;34m\"\"\u001b[0m\u001b[1;33m\u001b[0m\u001b[1;33m\u001b[0m\u001b[0m\n",
      "\u001b[1;31mAttributeError\u001b[0m: 'NoneType' object has no attribute 'find_all'"
     ]
    }
   ],
   "source": [
    "getQuestions(\"NDUFV3\")"
   ]
  },
  {
   "cell_type": "code",
   "execution_count": 121,
   "metadata": {},
   "outputs": [
    {
     "data": {
      "text/plain": [
       "('PKNOX1',\n",
       " 'Q2HJ84',\n",
       " 'https://www.uniprot.org/uniprot/Q2HJ84',\n",
       " 'PKNX1_BOVIN',\n",
       " 'Homeobox protein PKNOX1',\n",
       " 'PKNOX1',\n",
       " 'Bos taurus (Bovine)',\n",
       " 'Reviewed',\n",
       " 'Chromatin binding.Dna-binding transcription factor activity, rna polymerase ii-specific.Gaudet p..Rna polymerase ii cis-regulatory region sequence-specific dna binding.Gaudet p..',\n",
       " 'DNA-binding',\n",
       " 'Transcription, Transcription regulation')"
      ]
     },
     "execution_count": 121,
     "metadata": {},
     "output_type": "execute_result"
    }
   ],
   "source": [
    "getQuestions(\"PKNOX1\")"
   ]
  },
  {
   "cell_type": "code",
   "execution_count": 122,
   "metadata": {},
   "outputs": [
    {
     "data": {
      "text/plain": [
       "('CBS',\n",
       " 'Q3SWY3',\n",
       " 'https://www.uniprot.org/uniprot/Q3SWY3',\n",
       " 'IMDH2_BOVIN',\n",
       " \"Inosine-5'-monophosphate dehydrogenase 2\",\n",
       " 'IMPDH2',\n",
       " 'Bos taurus (Bovine)',\n",
       " 'Reviewed',\n",
       " 'Dna binding.Imp dehydrogenase activity.Gaudet p..Metal ion binding.Nucleotide binding.Rna binding.',\n",
       " 'DNA-binding, Oxidoreductase, RNA-binding',\n",
       " 'GMP biosynthesis, Purine biosynthesis')"
      ]
     },
     "execution_count": 122,
     "metadata": {},
     "output_type": "execute_result"
    }
   ],
   "source": [
    "getQuestions(\"CBS\")"
   ]
  },
  {
   "cell_type": "code",
   "execution_count": 1,
   "metadata": {},
   "outputs": [
    {
     "ename": "NameError",
     "evalue": "name 'getQuestions' is not defined",
     "output_type": "error",
     "traceback": [
      "\u001b[1;31m---------------------------------------------------------------------------\u001b[0m",
      "\u001b[1;31mNameError\u001b[0m                                 Traceback (most recent call last)",
      "\u001b[1;32m<ipython-input-1-21e119824901>\u001b[0m in \u001b[0;36m<module>\u001b[1;34m\u001b[0m\n\u001b[1;32m----> 1\u001b[1;33m \u001b[0mgetQuestions\u001b[0m\u001b[1;33m(\u001b[0m\u001b[1;34m\"U2AF1\"\u001b[0m\u001b[1;33m)\u001b[0m\u001b[1;33m\u001b[0m\u001b[1;33m\u001b[0m\u001b[0m\n\u001b[0m",
      "\u001b[1;31mNameError\u001b[0m: name 'getQuestions' is not defined"
     ]
    }
   ],
   "source": [
    "getQuestions(\"U2AF1\")"
   ]
  },
  {
   "cell_type": "code",
   "execution_count": 64,
   "metadata": {},
   "outputs": [
    {
     "data": {
      "text/plain": [
       "('CRYAA',\n",
       " 'P02470',\n",
       " 'https://www.uniprot.org/uniprot/P02470',\n",
       " 'CRYAA_BOVIN',\n",
       " 'Alpha-crystallin A chain',\n",
       " 'CRYAA',\n",
       " 'Bos taurus (Bovine)',\n",
       " 'Reviewed',\n",
       " 'Chaperone, Eye lens protein',\n",
       " 'Metal-binding, Zinc')"
      ]
     },
     "execution_count": 64,
     "metadata": {},
     "output_type": "execute_result"
    }
   ],
   "source": [
    "getQuestions(\"CRYAA\")"
   ]
  },
  {
   "cell_type": "code",
   "execution_count": 65,
   "metadata": {},
   "outputs": [
    {
     "data": {
      "text/plain": [
       "('SIK1',\n",
       " 'Q08DA1',\n",
       " 'https://www.uniprot.org/uniprot/Q08DA1',\n",
       " 'AT1A1_BOVIN',\n",
       " 'Sodium/potassium-transporting ATPase subunit alpha-1',\n",
       " 'ATP1A1',\n",
       " 'Bos taurus (Bovine)',\n",
       " 'Reviewed',\n",
       " 'Translocase',\n",
       " 'Ion transport, Potassium transport, Sodium transport, Sodium/potassium transport, Transport')"
      ]
     },
     "execution_count": 65,
     "metadata": {},
     "output_type": "execute_result"
    }
   ],
   "source": [
    "getQuestions(\"SIK1\")"
   ]
  },
  {
   "cell_type": "code",
   "execution_count": 66,
   "metadata": {},
   "outputs": [
    {
     "data": {
      "text/plain": [
       "('RRP1B',\n",
       " 'Q3SWW9',\n",
       " 'https://www.uniprot.org/uniprot/Q3SWW9',\n",
       " 'PP1B_BOVIN',\n",
       " 'Serine/threonine-protein phosphatase PP1-beta catalytic subunit',\n",
       " 'PPP1CB',\n",
       " 'Bos taurus (Bovine)',\n",
       " 'Reviewed',\n",
       " 'Hydrolase, Protein phosphatase',\n",
       " 'Biological rhythms, Carbohydrate metabolism, Cell cycle, Cell division, Glycogen metabolism')"
      ]
     },
     "execution_count": 66,
     "metadata": {},
     "output_type": "execute_result"
    }
   ],
   "source": [
    "getQuestions(\"RRP1B\")"
   ]
  },
  {
   "cell_type": "code",
   "execution_count": 67,
   "metadata": {},
   "outputs": [
    {
     "data": {
      "text/plain": [
       "('AGPAT3',\n",
       " 'G5E5P6',\n",
       " 'https://www.uniprot.org/uniprot/G5E5P6',\n",
       " 'G5E5P6_BOVIN',\n",
       " '1-acylglycerol-3-phosphate O-acyltransferase 3',\n",
       " 'AGPAT3',\n",
       " 'Bos taurus (Bovine)',\n",
       " 'Unreviewed',\n",
       " 'Acyltransferase',\n",
       " '')"
      ]
     },
     "execution_count": 67,
     "metadata": {},
     "output_type": "execute_result"
    }
   ],
   "source": [
    "getQuestions(\"AGPAT3\")"
   ]
  },
  {
   "cell_type": "code",
   "execution_count": 68,
   "metadata": {},
   "outputs": [
    {
     "ename": "AttributeError",
     "evalue": "'NoneType' object has no attribute 'find_all'",
     "output_type": "error",
     "traceback": [
      "\u001b[1;31m---------------------------------------------------------------------------\u001b[0m",
      "\u001b[1;31mAttributeError\u001b[0m                            Traceback (most recent call last)",
      "\u001b[1;32m<ipython-input-68-bf1ebbf7bafc>\u001b[0m in \u001b[0;36m<module>\u001b[1;34m\u001b[0m\n\u001b[1;32m----> 1\u001b[1;33m \u001b[0mgetQuestions\u001b[0m\u001b[1;33m(\u001b[0m\u001b[1;34m\"TRNAD-GUC\"\u001b[0m\u001b[1;33m)\u001b[0m\u001b[1;33m\u001b[0m\u001b[1;33m\u001b[0m\u001b[0m\n\u001b[0m",
      "\u001b[1;32m<ipython-input-57-8e0a2b710510>\u001b[0m in \u001b[0;36mgetQuestions\u001b[1;34m(tag)\u001b[0m\n\u001b[0;32m     12\u001b[0m         \u001b[0msoup\u001b[0m \u001b[1;33m=\u001b[0m \u001b[0mBeautifulSoup\u001b[0m \u001b[1;33m(\u001b[0m\u001b[0mr\u001b[0m\u001b[1;33m.\u001b[0m\u001b[0mtext\u001b[0m\u001b[1;33m,\u001b[0m \u001b[1;34m'html.parser'\u001b[0m\u001b[1;33m)\u001b[0m\u001b[1;33m\u001b[0m\u001b[1;33m\u001b[0m\u001b[0m\n\u001b[0;32m     13\u001b[0m         \u001b[0marea\u001b[0m\u001b[1;33m=\u001b[0m\u001b[0msoup\u001b[0m\u001b[1;33m.\u001b[0m\u001b[0mfind\u001b[0m\u001b[1;33m(\u001b[0m\u001b[1;34m\"div\"\u001b[0m\u001b[1;33m,\u001b[0m \u001b[1;33m{\u001b[0m\u001b[1;34m\"id\"\u001b[0m\u001b[1;33m:\u001b[0m\u001b[1;34m\"resultsArea\"\u001b[0m\u001b[1;33m}\u001b[0m \u001b[1;33m)\u001b[0m\u001b[1;33m\u001b[0m\u001b[1;33m\u001b[0m\u001b[0m\n\u001b[1;32m---> 14\u001b[1;33m         \u001b[0mtab\u001b[0m\u001b[1;33m=\u001b[0m\u001b[0marea\u001b[0m\u001b[1;33m.\u001b[0m\u001b[0mfind_all\u001b[0m\u001b[1;33m(\u001b[0m\u001b[1;34m\"table\"\u001b[0m\u001b[1;33m,\u001b[0m \u001b[1;33m{\u001b[0m\u001b[1;34m\"class\"\u001b[0m\u001b[1;33m:\u001b[0m\u001b[1;34m\"grid\"\u001b[0m \u001b[1;33m,\u001b[0m\u001b[1;34m\"id\"\u001b[0m\u001b[1;33m:\u001b[0m\u001b[1;34m\"results\"\u001b[0m\u001b[1;33m}\u001b[0m\u001b[1;33m)\u001b[0m\u001b[1;33m\u001b[0m\u001b[1;33m\u001b[0m\u001b[0m\n\u001b[0m\u001b[0;32m     15\u001b[0m         \u001b[1;31m#print(len(tab))  ###1\u001b[0m\u001b[1;33m\u001b[0m\u001b[1;33m\u001b[0m\u001b[1;33m\u001b[0m\u001b[0m\n\u001b[0;32m     16\u001b[0m         \u001b[1;31m#print(type(tab))   ####<class 'bs4.element.ResultSet'>\u001b[0m\u001b[1;33m\u001b[0m\u001b[1;33m\u001b[0m\u001b[1;33m\u001b[0m\u001b[0m\n",
      "\u001b[1;31mAttributeError\u001b[0m: 'NoneType' object has no attribute 'find_all'"
     ]
    }
   ],
   "source": [
    "getQuestions(\"TRNAD-GUC\")"
   ]
  },
  {
   "cell_type": "code",
   "execution_count": null,
   "metadata": {},
   "outputs": [],
   "source": [
    "getQuestions(\"CRYAA\")"
   ]
  },
  {
   "cell_type": "code",
   "execution_count": null,
   "metadata": {},
   "outputs": [],
   "source": []
  },
  {
   "cell_type": "code",
   "execution_count": null,
   "metadata": {},
   "outputs": [],
   "source": []
  },
  {
   "cell_type": "code",
   "execution_count": null,
   "metadata": {},
   "outputs": [],
   "source": []
  },
  {
   "cell_type": "code",
   "execution_count": null,
   "metadata": {},
   "outputs": [],
   "source": []
  },
  {
   "cell_type": "code",
   "execution_count": null,
   "metadata": {},
   "outputs": [],
   "source": []
  },
  {
   "cell_type": "code",
   "execution_count": null,
   "metadata": {},
   "outputs": [],
   "source": []
  },
  {
   "cell_type": "code",
   "execution_count": null,
   "metadata": {},
   "outputs": [],
   "source": []
  },
  {
   "cell_type": "code",
   "execution_count": null,
   "metadata": {},
   "outputs": [],
   "source": []
  },
  {
   "cell_type": "code",
   "execution_count": 37,
   "metadata": {},
   "outputs": [
    {
     "data": {
      "text/plain": [
       "('ROBO1',\n",
       " 'A6QNM7',\n",
       " 'https://www.uniprot.org/uniprot/A6QNM7',\n",
       " 'Ubiquitin carboxyl-terminal hydrolase 33',\n",
       " 'USP33',\n",
       " 'Bos taurus (Bovine)',\n",
       " 'Reviewed',\n",
       " 'Axon guidance.Cell migration.Cellular response to starvation.Centrosome duplication.Endocytosis.Negative regulation of protein binding.Positive regulation of protein binding.Protein deubiquitination.Protein k48-linked deubiquitination.Protein k63-linked deubiquitination.Protein stabilization.Regulation of autophagy.Regulation of g protein-coupled receptor signaling pathway.Ubiquitin-dependent protein catabolic process.',\n",
       " 'Hydrolase, Protease, Thiol protease',\n",
       " 'Endocytosis, Ubl conjugation pathway')"
      ]
     },
     "execution_count": 37,
     "metadata": {},
     "output_type": "execute_result"
    }
   ],
   "source": [
    "getQuestions(\"ROBO1\")"
   ]
  },
  {
   "cell_type": "markdown",
   "metadata": {},
   "source": [
    "# PARA Q2HJ27"
   ]
  },
  {
   "cell_type": "code",
   "execution_count": 16,
   "metadata": {},
   "outputs": [
    {
     "name": "stdout",
     "output_type": "stream",
     "text": [
      "200\n"
     ]
    },
    {
     "data": {
      "text/plain": [
       "'\\nif response==200:\\n    soup = BeautifulSoup (r.text, \\'html.parser\\')\\n    questions= soup.find_all(\\'tr\\', {\\'class\\': \\'entry selected-row\\'})\\n    for item in questions:\\n        entry=item.find(\\'td\\', {\\'class\\': \\'entryID\\'}).a.text \\n        link=\\'https://www.uniprot.org\\' +item.find(\\'td\\', {\\'class\\': \\'entryID\\'}).a[\\'href\\'] \\n        #entry_name=item.find(\\'td\\', {\\'class\\': \\'entryID\\'}).text ???????\\n            \\n        print(entry,\"->\",link)\\nelse:\\n    entry=\"\"\\n    linki=\"\"\\n    \\n    print(entry,link)\\n    \\n'"
      ]
     },
     "execution_count": 16,
     "metadata": {},
     "output_type": "execute_result"
    }
   ],
   "source": [
    "#################################################################################################################oficial2 ???\n",
    "###\n",
    "url = f'https://www.uniprot.org/uniprot/?query=Q2HJ27+Bos+taurus&sort=score'\n",
    "r= requests.get(url, headers=headers)\n",
    "response=r.status_code\n",
    "print(response)\n",
    "\n",
    "\"\"\"\n",
    "if response==200:\n",
    "    soup = BeautifulSoup (r.text, 'html.parser')\n",
    "    questions= soup.find_all('tr', {'class': 'entry selected-row'})\n",
    "    for item in questions:\n",
    "        entry=item.find('td', {'class': 'entryID'}).a.text \n",
    "        link='https://www.uniprot.org' +item.find('td', {'class': 'entryID'}).a['href'] \n",
    "        #entry_name=item.find('td', {'class': 'entryID'}).text ???????\n",
    "            \n",
    "        print(entry,\"->\",link)\n",
    "else:\n",
    "    entry=\"\"\n",
    "    linki=\"\"\n",
    "    \n",
    "    print(entry,link)\n",
    "    \n",
    "\"\"\""
   ]
  },
  {
   "cell_type": "markdown",
   "metadata": {},
   "source": [
    "# para CD47"
   ]
  },
  {
   "cell_type": "code",
   "execution_count": 14,
   "metadata": {},
   "outputs": [
    {
     "name": "stdout",
     "output_type": "stream",
     "text": [
      "200\n"
     ]
    },
    {
     "data": {
      "text/plain": [
       "'\\nif response==200:\\n    soup = BeautifulSoup (r.text, \\'html.parser\\')\\n    questions= soup.find_all(\\'tr\\', {\\'class\\': \\'entry selected-row\\'})\\n    for item in questions:\\n        entry=item.find(\\'td\\', {\\'class\\': \\'entryID\\'}).a.text \\n        link=\\'https://www.uniprot.org\\' +item.find(\\'td\\', {\\'class\\': \\'entryID\\'}).a[\\'href\\'] \\n        #entry_name=item.find(\\'td\\', {\\'class\\': \\'entryID\\'}).text ???????\\n            \\n        print(entry,\"->\",link)\\nelse:\\n    entry=\"\"\\n    linki=\"\"\\n    \\n    print(entry,link)\\n    \\n'"
      ]
     },
     "execution_count": 14,
     "metadata": {},
     "output_type": "execute_result"
    }
   ],
   "source": [
    "#################################################################################################################oficial2 ???\n",
    "###\n",
    "url = f'https://www.uniprot.org/uniprot/?query=CD47+Bos+taurus&sort=score'\n",
    "r= requests.get(url, headers=headers)\n",
    "response=r.status_code\n",
    "print(response)\n",
    "\n",
    "\"\"\"\n",
    "if response==200:\n",
    "    soup = BeautifulSoup (r.text, 'html.parser')\n",
    "    questions= soup.find_all('tr', {'class': 'entry selected-row'})\n",
    "    for item in questions:\n",
    "        entry=item.find('td', {'class': 'entryID'}).a.text \n",
    "        link='https://www.uniprot.org' +item.find('td', {'class': 'entryID'}).a['href'] \n",
    "        #entry_name=item.find('td', {'class': 'entryID'}).text ???????\n",
    "            \n",
    "        print(entry,\"->\",link)\n",
    "else:\n",
    "    entry=\"\"\n",
    "    linki=\"\"\n",
    "    \n",
    "    print(entry,link)\n",
    "    \n",
    "\"\"\""
   ]
  },
  {
   "cell_type": "markdown",
   "metadata": {},
   "source": [
    "# PARA MIR148B"
   ]
  },
  {
   "cell_type": "code",
   "execution_count": 18,
   "metadata": {},
   "outputs": [
    {
     "name": "stdout",
     "output_type": "stream",
     "text": [
      "200\n"
     ]
    },
    {
     "data": {
      "text/plain": [
       "'\\nif response==200:\\n    soup = BeautifulSoup (r.text, \\'html.parser\\')\\n    questions= soup.find_all(\\'tr\\', {\\'class\\': \\'entry selected-row\\'})\\n    for item in questions:\\n        entry=item.find(\\'td\\', {\\'class\\': \\'entryID\\'}).a.text \\n        link=\\'https://www.uniprot.org\\' +item.find(\\'td\\', {\\'class\\': \\'entryID\\'}).a[\\'href\\'] \\n        #entry_name=item.find(\\'td\\', {\\'class\\': \\'entryID\\'}).text ???????\\n            \\n        print(entry,\"->\",link)\\nelse:\\n    entry=\"\"\\n    linki=\"\"\\n    \\n    print(entry,link)\\n    \\n'"
      ]
     },
     "execution_count": 18,
     "metadata": {},
     "output_type": "execute_result"
    }
   ],
   "source": [
    "##################################################################################################\n",
    "url = f'https://www.uniprot.org/uniprot/?query=MIR148B+Bos+taurus&sort=score'\n",
    "r= requests.get(url, headers=headers)\n",
    "response=r.status_code\n",
    "print(response)\n",
    "\n",
    "\"\"\"\n",
    "if response==200:\n",
    "    soup = BeautifulSoup (r.text, 'html.parser')\n",
    "    questions= soup.find_all('tr', {'class': 'entry selected-row'})\n",
    "    for item in questions:\n",
    "        entry=item.find('td', {'class': 'entryID'}).a.text \n",
    "        link='https://www.uniprot.org' +item.find('td', {'class': 'entryID'}).a['href'] \n",
    "        #entry_name=item.find('td', {'class': 'entryID'}).text ???????\n",
    "            \n",
    "        print(entry,\"->\",link)\n",
    "else:\n",
    "    entry=\"\"\n",
    "    linki=\"\"\n",
    "    \n",
    "    print(entry,link)\n",
    "    \n",
    "\"\"\""
   ]
  },
  {
   "cell_type": "code",
   "execution_count": null,
   "metadata": {},
   "outputs": [],
   "source": []
  },
  {
   "cell_type": "code",
   "execution_count": null,
   "metadata": {},
   "outputs": [],
   "source": []
  },
  {
   "cell_type": "code",
   "execution_count": null,
   "metadata": {},
   "outputs": [],
   "source": []
  }
 ],
 "metadata": {
  "kernelspec": {
   "display_name": "Python 3",
   "language": "python",
   "name": "python3"
  },
  "language_info": {
   "codemirror_mode": {
    "name": "ipython",
    "version": 3
   },
   "file_extension": ".py",
   "mimetype": "text/x-python",
   "name": "python",
   "nbconvert_exporter": "python",
   "pygments_lexer": "ipython3",
   "version": "3.8.5"
  }
 },
 "nbformat": 4,
 "nbformat_minor": 4
}
