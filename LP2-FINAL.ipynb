{
 "cells": [
  {
   "cell_type": "markdown",
   "metadata": {},
   "source": [
    "linkf de la pagina https://www.uniprot.org/"
   ]
  },
  {
   "cell_type": "markdown",
   "metadata": {},
   "source": [
    "link de busqueda https://www.uniprot.org/uniprot/?query=CD47&sort=score\n",
    "                 https://www.uniprot.org/uniprot/?query=ROBO1&sort=score"
   ]
  },
  {
   "cell_type": "code",
   "execution_count": 1,
   "metadata": {
    "scrolled": true
   },
   "outputs": [
    {
     "name": "stdout",
     "output_type": "stream",
     "text": [
      "Ingrese Gen Abrev\n",
      "ROBO1\n",
      "A6QNM7 https://www.uniprot.org/uniprot/A6QNM7\n",
      "UBP33_BOVIN\n",
      "Ubiquitin carboxyl-terminal hydrolase 33\n",
      "USP33\n",
      "Bos taurus (Bovine)\n",
      "Reviewed\n",
      "Cysteine-type endopeptidase activity.G protein-coupled receptor binding.Small gtpase binding.Thiol-dependent ubiquitin-specific protease activity.Zinc ion binding.\n",
      "Axon guidance.Cell migration.Cellular response to starvation.Centrosome duplication.Endocytosis.Negative regulation of protein binding.Positive regulation of protein binding.Protein deubiquitination.Protein k48-linked deubiquitination.Protein k63-linked deubiquitination.Protein stabilization.Regulation of autophagy.Regulation of g protein-coupled receptor signaling pathway.Ubiquitin-dependent protein catabolic process.\n",
      "Hydrolase, Protease, Thiol protease\n",
      "Endocytosis, Ubl conjugation pathway\n"
     ]
    }
   ],
   "source": [
    "import requests\n",
    "from bs4 import BeautifulSoup\n",
    "import pandas as pd\n",
    "\n",
    "print(\"Ingrese Gen Abrev\")\n",
    "L=input()\n",
    "\n",
    "headers = {'User-Agent': 'Mozilla/5.0 (Windows NT 10.0; Win64; x64) AppleWebKit/537.36 (KHTML, like Gecko) Chrome/89.0.4389.128 Safari/537.36'}\n",
    "\n",
    "url = f\"https://www.uniprot.org/uniprot/?query={L}+Bos+taurus&sort=score\"\n",
    "r = requests.get(url, headers=headers)\n",
    "\n",
    "soup3 =BeautifulSoup(r.text, \"html.parser\")\n",
    "DUDA=soup3.find_all('div',{\"id\":\"noResultsMessage\"})\n",
    "\n",
    "\n",
    "if DUDA == []:\n",
    "    soup =BeautifulSoup(r.text, \"html.parser\")\n",
    "\n",
    "    questions =soup.find_all('tr', class_='entry selected-row')\n",
    "\n",
    "    for item in questions:\n",
    "        Entry = item.find('td',{'class':'entryID'}).text\n",
    "        link='https://www.uniprot.org' +item.find('td', {'class': 'entryID'}).a['href']\n",
    "        Gene_names = item.find('td',{'class':''}).text\n",
    "    print(Entry,link)\n",
    "    print(Gene_names)\n",
    "\n",
    "\n",
    "    url2= f\"https://www.uniprot.org/uniprot/{Entry}\"\n",
    "    r2 = requests.get(url2, headers=headers)\n",
    "    soup2 =BeautifulSoup(r2.text, \"html.parser\")\n",
    "\n",
    "    questions2 =soup2.find_all('div', {'class':'content entry_view_content up_entry swissprot'})\n",
    "\n",
    "\n",
    "    for item in questions2:\n",
    "        Protein = item.find('div',{'id':'content-protein'}).text\n",
    "        Gene=item.find('div',{'id':'content-gene'}).text\n",
    "        Organism=item.find('div',{'id':'content-organism'}).text\n",
    "        Status=item.find('a',{'title':'Reviewed (Swiss-Prot)'}).text\n",
    "    print(Protein)\n",
    "    print(Gene)\n",
    "    print(Organism)\n",
    "    print(Status)\n",
    "\n",
    "\n",
    "\n",
    "\n",
    "\n",
    "    go2=soup2.find(\"ul\",{\"class\":\"noNumbering molecular_function\"})\n",
    "    if go2 == None:\n",
    "        print(\" \")\n",
    "    else :\n",
    "        goes2=go2.find_all(\"li\")\n",
    "\n",
    "\n",
    "    cadena2=\"\"\n",
    "    for j in goes2:\n",
    "        Molecular_function=str(j.find(\"a\").text).capitalize()  #imprime todo texto de bio_process   \n",
    "        cadena3=Molecular_function+\".\"\n",
    "        cadena2=cadena2+cadena3\n",
    "    print(cadena2)\n",
    "\n",
    "\n",
    "\n",
    "    go = soup2.find(\"ul\",{\"class\":\"noNumbering biological_process\"})\n",
    "    if go == None:\n",
    "        print(\" \")\n",
    "    else :\n",
    "        goes=go.find_all(\"li\")\n",
    "\n",
    "    cadena=\"\"\n",
    "    for j in goes:\n",
    "        Biological_process_row=str(j.find(\"a\").text).capitalize()  #imprime todo texto de bio_process   \n",
    "        cadena1=Biological_process_row+\".\"\n",
    "        cadena=cadena+cadena1\n",
    "    print(cadena)\n",
    "\n",
    "\n",
    "\n",
    "\n",
    "\n",
    "    #KEYWORDS:\"Molecular function', 'Biological process\"\n",
    "    linea1=[]\n",
    "    linea2=[]\n",
    "    linea3=[]\n",
    "\n",
    "    division=soup2.find(\"div\", {\"id\":\"function\"} )\n",
    "    tabla=division.find(\"table\", {\"class\":\"databaseTable\"})\n",
    "    rows=tabla.find_all(\"tr\")\n",
    "\n",
    "    for row in rows:\n",
    "        linea1.append(str(row.find_all(\"td\")[0].text))   #muestra ('Molecular function', 'Biological process')\n",
    "        linea2.append(str(row.find_all(\"td\")[1].text))   #muestra (\"'Activator, DNA-binding','Transcription, Transcription regulation'\")\n",
    "        linea3.append(str(row.find_all(\"td\")[1].a.text))\n",
    "    if len(linea1)==1:\n",
    "        linea3.append(str(row.find_all(\"td\")[1].a.text))\n",
    "        if linea1[0]==\"Molecular function\":\n",
    "            molecular_f=linea3[0]\n",
    "            biological_p=\"\"\n",
    "            #print(molecular_f)\n",
    "        if linea1[0]==\"Biological process\":\n",
    "            molecular_f=\"\"\n",
    "            biological_p=linea3[0]\n",
    "            #print(biological_p)\n",
    "    if len(linea1)>=2:\n",
    "        molecular_f=linea2[0]\n",
    "        biological_p=linea2[1]\n",
    "        #print(molecular_f,biological_p)\n",
    "    if len(linea1)==0:\n",
    "        molecular_f=\"\"\n",
    "        biological_p=\"\"\n",
    "        #print(molecular_f,biological_p)\n",
    "    print(molecular_f)\n",
    "    print(biological_p)\n",
    "else:\n",
    "    print(\"BORRAR\")"
   ]
  },
  {
   "cell_type": "markdown",
   "metadata": {},
   "source": [
    "[Enseñar](https://www.youtube.com/watch?v=rhnMvvmfBFI)"
   ]
  },
  {
   "cell_type": "code",
   "execution_count": 2,
   "metadata": {},
   "outputs": [
    {
     "name": "stdout",
     "output_type": "stream",
     "text": [
      "['Atlético', 'Real Madrid', 'Barcelona', 'Sevilla', 'R. Sociedad', 'Betis', 'Villarreal', 'Granada', 'Osasuna', 'Athletic', 'Levante', 'Celta', 'Cádiz', 'Valencia', 'Getafe', 'Alavés', 'Real Valladolid', 'Huesca', 'Elche', 'Eibar']\n"
     ]
    }
   ],
   "source": [
    "from bs4 import BeautifulSoup\n",
    "import requests\n",
    "import pandas as pd\n",
    "url = 'https://resultados.as.com/resultados/futbol/primera/clasificacion/?omnil=src-sab'\n",
    "page =requests.get(url)\n",
    "soup= BeautifulSoup(page.content,'html.parser')\n",
    "\n",
    "#equipos\n",
    "eq= soup.find_all('span',class_='nombre-equipo')\n",
    "equipos=list()\n",
    "count = 0\n",
    "for i in eq:\n",
    "    if count <20:\n",
    "        equipos.append(i.text)\n",
    "    else:\n",
    "        break\n",
    "    count +=1\n",
    "print(equipos)"
   ]
  }
 ],
 "metadata": {
  "kernelspec": {
   "display_name": "Python 3",
   "language": "python",
   "name": "python3"
  },
  "language_info": {
   "codemirror_mode": {
    "name": "ipython",
    "version": 3
   },
   "file_extension": ".py",
   "mimetype": "text/x-python",
   "name": "python",
   "nbconvert_exporter": "python",
   "pygments_lexer": "ipython3",
   "version": "3.8.5"
  }
 },
 "nbformat": 4,
 "nbformat_minor": 4
}
